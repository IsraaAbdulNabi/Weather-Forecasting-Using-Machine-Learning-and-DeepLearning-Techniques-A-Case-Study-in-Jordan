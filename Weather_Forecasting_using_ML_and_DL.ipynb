{
  "nbformat": 4,
  "nbformat_minor": 0,
  "metadata": {
    "colab": {
      "name": "Weather Forecasting using ML and DL.ipynb",
      "provenance": [],
      "authorship_tag": "ABX9TyMtt+Xud/g/N/evKo3+Hpco",
      "include_colab_link": true
    },
    "kernelspec": {
      "name": "python3",
      "display_name": "Python 3"
    },
    "language_info": {
      "name": "python"
    }
  },
  "cells": [
    {
      "cell_type": "markdown",
      "metadata": {
        "id": "view-in-github",
        "colab_type": "text"
      },
      "source": [
        "<a href=\"https://colab.research.google.com/github/IsraaAbdulNabi/Weather-Forecasting-Using-Machine-Learning-and-DeepLearning-Techniques-A-Case-Study-in-Jordan/blob/main/Weather_Forecasting_using_ML_and_DL.ipynb\" target=\"_parent\"><img src=\"https://colab.research.google.com/assets/colab-badge.svg\" alt=\"Open In Colab\"/></a>"
      ]
    },
    {
      "cell_type": "code",
      "metadata": {
        "id": "x_J7WfIlUpR9"
      },
      "source": [
        "!pip install pycaret"
      ],
      "execution_count": null,
      "outputs": []
    },
    {
      "cell_type": "code",
      "metadata": {
        "id": "GsjxsiG2Urry"
      },
      "source": [
        "import pandas as pd\n",
        "import seaborn as sns\n",
        "import matplotlib.pyplot as plt\n",
        "import ipaddress\n",
        "import numpy as np\n",
        "from scipy import stats\n",
        "from scipy.stats import chi2_contingency\n",
        "from datetime import datetime, timedelta\n",
        "import math\n",
        "import missingno as msno\n",
        "plt.style.use('ggplot')\n",
        "import warnings\n",
        "warnings.filterwarnings('ignore') \n",
        "from sklearn.naive_bayes import GaussianNB, BernoulliNB\n",
        "from sklearn.metrics import accuracy_score, classification_report\n",
        "from sklearn.ensemble import BaggingClassifier\n",
        "from sklearn.neighbors import KNeighborsClassifier\n",
        "from sklearn.linear_model import SGDClassifier\n",
        "from sklearn.model_selection import train_test_split\n",
        "from sklearn.metrics import cohen_kappa_score\n",
        "from sklearn.metrics import confusion_matrix\n",
        "from sklearn.ensemble import RandomForestClassifier\n",
        "from sklearn import svm\n",
        "from sklearn import preprocessing\n",
        "import torch\n",
        "from sklearn import svm\n",
        "from sklearn import tree\n",
        "from sklearn.externals import joblib\n",
        "import pickle\n",
        "import seaborn as sns\n",
        "import keras\n",
        "from keras.models import Sequential\n",
        "from keras.layers import Dense"
      ],
      "execution_count": null,
      "outputs": []
    },
    {
      "cell_type": "code",
      "metadata": {
        "id": "xmZPbWelU7Dk"
      },
      "source": [
        "df = pd.read_csv(\"weather_data_24hr.csv\")"
      ],
      "execution_count": null,
      "outputs": []
    },
    {
      "cell_type": "code",
      "metadata": {
        "id": "agJTH33nU7pl"
      },
      "source": [
        "df.info()"
      ],
      "execution_count": null,
      "outputs": []
    },
    {
      "cell_type": "code",
      "metadata": {
        "id": "fcTrU6NRU-2J"
      },
      "source": [
        "#Remove any repatative representation of data in fahrenheit vs. celsius and Miles vs. Km\n",
        "df= df.drop(['maxtempF', 'mintempF', 'avgtempF', 'totalprecipIn',\n",
        "             'weatherCode', 'weatherIconUrl', 'visibilityMiles', \n",
        "             'HeatIndexF', 'DewPointF','WindChillF', 'WindGustMiles',\n",
        "             'FeelsLikeF','windspeedMiles','weatherDesc','moon_phase','winddir16point'],axis=1)"
      ],
      "execution_count": null,
      "outputs": []
    },
    {
      "cell_type": "code",
      "metadata": {
        "id": "66j54RnzVApL"
      },
      "source": [
        "df['sunrise'] = pd.to_datetime(df['sunrise'],format='%H:%M %p')\n",
        "df['sunset'] = pd.to_datetime(df['sunset'],format='%H:%M %p')\n",
        "df.drop(df[df['moonrise'] == 'No moonrise'].index, inplace = True)\n",
        "df.drop(df[df['moonset'] == 'No moonset'].index, inplace = True)\n",
        "df['moonrise'] = pd.to_datetime(df['moonrise'],format='%H:%M %p')\n",
        "df['moonset'] = pd.to_datetime(df['moonset'],format='%H:%M %p')\n",
        "#Convert datetime to numeric value so we can calculate the correlation between it and the tempreture\n",
        "df['sunrise'] = df['sunrise'].apply(lambda x: x.value)\n",
        "df['sunset'] = df['sunset'].apply(lambda x: x.value)\n",
        "df['moonrise'] = df['moonrise'].apply(lambda x: x.value)\n",
        "df['moonset'] = df['moonset'].apply(lambda x: x.value)"
      ],
      "execution_count": null,
      "outputs": []
    },
    {
      "cell_type": "code",
      "metadata": {
        "id": "azWD-4p1VCme"
      },
      "source": [
        "df.corr()[['avgtempC']].sort_values('avgtempC')"
      ],
      "execution_count": null,
      "outputs": []
    },
    {
      "cell_type": "code",
      "metadata": {
        "id": "mvxcqyWKVFw9"
      },
      "source": [
        "import pandas as pd\n",
        "import numpy as np\n",
        "X = df.drop(['avgtempC','date'],axis=1)\n",
        "y = df['avgtempC']\n",
        "from sklearn.ensemble import ExtraTreesClassifier\n",
        "import matplotlib.pyplot as plt\n",
        "model = ExtraTreesClassifier()\n",
        "model.fit(X,y)\n",
        "print(model.feature_importances_) #use inbuilt class feature_importances of tree based classifiers\n",
        "#plot graph of feature importances for better visualization\n",
        "feat_importances = pd.Series(model.feature_importances_, index=X.columns)\n",
        "feat_importances.nlargest(20).plot(kind='barh')\n",
        "plt.show()"
      ],
      "execution_count": null,
      "outputs": []
    },
    {
      "cell_type": "code",
      "metadata": {
        "id": "hb3PneZ3VILI"
      },
      "source": [
        "import numpy as np\n",
        "import seaborn as sns\n",
        "X = df.drop(['loc_id','date'],axis=1)\n",
        "y = df['avgtempC']\n",
        "#get correlations of each features in dataset\n",
        "corrmat = X.corr()\n",
        "top_corr_features = corrmat.index\n",
        "plt.figure(figsize=(13,10))\n",
        "#plot heat map\n",
        "g=sns.heatmap(X[top_corr_features].corr(),annot=True,cmap=\"RdYlGn\")"
      ],
      "execution_count": null,
      "outputs": []
    },
    {
      "cell_type": "code",
      "metadata": {
        "id": "nMCqjKASVKZS"
      },
      "source": [
        "from pandas import read_csv\n",
        "from matplotlib import pyplot\n",
        "series = read_csv(\"weather_data_24hr.csv\")\n",
        "series['date'] = pd.to_datetime(series['date'],format='%Y-%m-%d')\n",
        "series= series[['avgtempC','date']]\n",
        "series.plot(x='date',y='avgtempC',style='k.')\n",
        "pyplot.show()"
      ],
      "execution_count": null,
      "outputs": []
    },
    {
      "cell_type": "code",
      "metadata": {
        "id": "qwcC7i3TVOB6"
      },
      "source": [
        "df = df.drop(['sunrise','pressureMB','cloudcover','humidity',\n",
        "               'totalprecipMM','WindGustKmph','windspeedKmph',\n",
        "               'moon_illumination','moonrise','moonset','visibilityKm',\n",
        "               'sunhour','winddirdegree','pressureInches'],axis=1)"
      ],
      "execution_count": null,
      "outputs": []
    },
    {
      "cell_type": "code",
      "metadata": {
        "id": "912EWZFkVYJe"
      },
      "source": [
        "amman_df= df.loc[df['loc_id'] == 1]\n",
        "amman_df=amman_df.set_index('date')\n",
        "amman_df = amman_df.drop(['loc_id'],axis=1)\n",
        "irbid_df= df.loc[df['loc_id'] == 2]\n",
        "irbid_df=irbid_df.set_index('date')\n",
        "irbid_df = irbid_df.drop(['loc_id'],axis=1)\n",
        "aqaba_df= df.loc[df['loc_id'] == 3]\n",
        "aqaba_df=aqaba_df.set_index('date')\n",
        "aqaba_df = aqaba_df.drop(['loc_id'],axis=1)"
      ],
      "execution_count": null,
      "outputs": []
    },
    {
      "cell_type": "code",
      "metadata": {
        "id": "TI7H4Y7rVZ2n"
      },
      "source": [
        "#set of selected features\n",
        "features = ['avgtempC','WindChillC','HeatIndexC','FeelsLikeC','uvIndex',\n",
        "            'sunset', 'DewPointC']"
      ],
      "execution_count": null,
      "outputs": []
    },
    {
      "cell_type": "code",
      "metadata": {
        "id": "NeauF9QAVaUU"
      },
      "source": [
        "def derive_nth_day_feature(df, feature, N):\n",
        "    rows = df.shape[0]\n",
        "    nth_prior_measurements = [None]*N + [df[feature][i-N] for i in range(N, rows)]\n",
        "    col_name = \"{}_{}\".format(feature, N)\n",
        "    df[col_name] = nth_prior_measurements"
      ],
      "execution_count": null,
      "outputs": []
    },
    {
      "cell_type": "code",
      "metadata": {
        "id": "RftXVpwvVb9E"
      },
      "source": [
        "for feature in features:\n",
        "    if feature != 'date':\n",
        "        for N in range(1, 4):\n",
        "            derive_nth_day_feature(amman_df, feature, N)"
      ],
      "execution_count": null,
      "outputs": []
    },
    {
      "cell_type": "code",
      "metadata": {
        "id": "SKiOryucVdag"
      },
      "source": [
        "amman_df.head(10)"
      ],
      "execution_count": null,
      "outputs": []
    },
    {
      "cell_type": "code",
      "metadata": {
        "id": "Ih-BTuXDVfBW"
      },
      "source": [
        "for feature in features:\n",
        "    if feature != 'date':\n",
        "        for N in range(1, 4):\n",
        "            derive_nth_day_feature(irbid_df, feature, N)"
      ],
      "execution_count": null,
      "outputs": []
    },
    {
      "cell_type": "code",
      "metadata": {
        "id": "V5ifg1IUVg6m"
      },
      "source": [
        "for feature in features:\n",
        "    if feature != 'date':\n",
        "        for N in range(1, 4):\n",
        "            derive_nth_day_feature(aqaba_df, feature, N)"
      ],
      "execution_count": null,
      "outputs": []
    },
    {
      "cell_type": "code",
      "metadata": {
        "id": "jL1zulY8Vjju"
      },
      "source": [
        "amman_df = amman_df.dropna()\n",
        "irbid_df = irbid_df.dropna()\n",
        "aqaba_df = aqaba_df.dropna()"
      ],
      "execution_count": null,
      "outputs": []
    },
    {
      "cell_type": "code",
      "metadata": {
        "id": "3CatA6rAVk92"
      },
      "source": [
        "amman_df.to_csv(\"amman_waether_data_24h.csv\")\n",
        "irbid_df.to_csv(\"irbid_waether_data_24h.csv\")\n",
        "aqaba_df.to_csv(\"aqaba_waether_data_24h.csv\")"
      ],
      "execution_count": null,
      "outputs": []
    },
    {
      "cell_type": "code",
      "metadata": {
        "id": "VAeOcMg5VmVG"
      },
      "source": [
        "amman_df.corr()[['avgtempC']].sort_values('avgtempC')"
      ],
      "execution_count": null,
      "outputs": []
    },
    {
      "cell_type": "code",
      "metadata": {
        "id": "ZM3V-MP6Vmvn"
      },
      "source": [
        "amman_df=amman_df.drop(['mintempC','maxtempC'],axis=1)\n",
        "irbid_df=irbid_df.drop(['mintempC','maxtempC'],axis=1)\n",
        "aqaba_df=aqaba_df.drop(['mintempC','maxtempC'],axis=1)"
      ],
      "execution_count": null,
      "outputs": []
    },
    {
      "cell_type": "code",
      "metadata": {
        "id": "vPZTJeR3Vp3U"
      },
      "source": [
        "amman_df.columns"
      ],
      "execution_count": null,
      "outputs": []
    },
    {
      "cell_type": "code",
      "metadata": {
        "id": "oun1bTkLVtL6"
      },
      "source": [
        "from pycaret.regression import *\n",
        "exp_reg101 = setup(data = df, target = 'avgtempC', session_id=123)"
      ],
      "execution_count": null,
      "outputs": []
    },
    {
      "cell_type": "code",
      "metadata": {
        "id": "wfU2LJnyVvEo"
      },
      "source": [
        "best = compare_models(exclude = ['ransac'])"
      ],
      "execution_count": null,
      "outputs": []
    },
    {
      "cell_type": "code",
      "metadata": {
        "id": "JVVdSKttVxpO"
      },
      "source": [
        "#Using SciKit-Learn's LinearRegression Module to Predict the Weather\n",
        "from sklearn.model_selection import train_test_split\n",
        "# Data Partition\n",
        "X_amman = amman_df.drop('avgtempC', axis=1)\n",
        "y_amman = amman_df['avgtempC']\n",
        "\n",
        "X_train, X_test, y_train, y_test = train_test_split(X_amman, y_amman, test_size=0.3, random_state=23,shuffle= False)"
      ],
      "execution_count": null,
      "outputs": []
    },
    {
      "cell_type": "code",
      "metadata": {
        "id": "RlmsWO_WVzd1"
      },
      "source": [
        "from sklearn.linear_model import LinearRegression\n",
        "# instantiate the regressor class\n",
        "model = LinearRegression()\n",
        "\n",
        "# fit the build the model by fitting the regressor to the training data\n",
        "model.fit(X_train, y_train)\n",
        "\n",
        "# make a prediction set using the test set\n",
        "prediction = model.predict(X_test)\n",
        "\n",
        "# Evaluate the prediction accuracy of the model\n",
        "from sklearn.metrics import mean_squared_error, r2_score, accuracy_score\n",
        "rmse = np.sqrt(mean_squared_error(y_test,prediction))\n",
        "r2 = r2_score(y_test,prediction)\n",
        "print(\"RMSE Score for Test set: \" +\"{:.2}\".format(rmse))\n",
        "print(\"R2 Score for Test set: \" +\"{:.2}\".format(r2))"
      ],
      "execution_count": null,
      "outputs": []
    },
    {
      "cell_type": "code",
      "metadata": {
        "id": "jQ8Eetu7V0Dt"
      },
      "source": [
        "from sklearn.tree import DecisionTreeRegressor\n",
        "reg=DecisionTreeRegressor(random_state=0)\n",
        "reg.fit(X_train,y_train)\n",
        "prediction = reg.predict(X_test)\n",
        "# evaluate the model\n",
        "\n",
        "rmse = np.sqrt(mean_squared_error(y_test,prediction))\n",
        "r2 = r2_score(y_test,prediction)\n",
        "\n",
        "print(\"RMSE Score for Test set: \" +\"{:.2}\".format(rmse))\n",
        "print(\"R2 Score for Test set: \" +\"{:.2}\".format(r2))\n"
      ],
      "execution_count": null,
      "outputs": []
    },
    {
      "cell_type": "code",
      "metadata": {
        "id": "C4kowKc2V24B"
      },
      "source": [
        "#Polynomial Regression\n",
        "from sklearn.preprocessing import PolynomialFeatures\n",
        "\n",
        "poly_df = PolynomialFeatures(degree = 3)\n",
        "transform_poly = poly_df.fit_transform(X_train)\n",
        "\n",
        "linreg2 = LinearRegression()\n",
        "linreg2.fit(transform_poly,y_train)\n",
        "\n",
        "polynomial_predict = linreg2.predict(transform_poly)\n",
        "rmse = np.sqrt(mean_squared_error(y_train,polynomial_predict))\n",
        "r2 = r2_score(y_train,polynomial_predict)\n",
        "print(\"RMSE Score for Test set: \" +\"{:.2}\".format(rmse))\n",
        "print(\"R2 Score for Test set: \" +\"{:.2}\".format(r2))"
      ],
      "execution_count": null,
      "outputs": []
    },
    {
      "cell_type": "code",
      "metadata": {
        "id": "Bq3mD-xzV3b_"
      },
      "source": [
        "#Random Forest Model\n",
        "from sklearn.ensemble import RandomForestRegressor\n",
        "\n",
        "rf_reg = RandomForestRegressor(n_estimators=5, random_state=0)\n",
        "rf_reg.fit(X_train,y_train)\n",
        "rf_predict = rf_reg.predict(X_train)\n",
        "\n",
        "rmse = np.sqrt(mean_squared_error(y_train,rf_predict))\n",
        "r2 = r2_score(y_train,rf_predict)\n",
        "\n",
        "\n",
        "print(\"RMSE Score for Test set: \" +\"{:.2}\".format(rmse))\n",
        "print(\"R2 Score for Test set: \" +\"{:.2}\".format(r2))"
      ],
      "execution_count": null,
      "outputs": []
    },
    {
      "cell_type": "code",
      "metadata": {
        "id": "YFP32mWyV6V0"
      },
      "source": [
        "X_train = np.reshape(X_train.values,(3054,27,1))\n",
        "X_test = np.reshape(X_test.values,(1309,27,1))\n"
      ],
      "execution_count": null,
      "outputs": []
    },
    {
      "cell_type": "code",
      "metadata": {
        "id": "pHuG0CLlV8Dn"
      },
      "source": [
        "import tensorflow as tf\n",
        "from tensorflow import keras\n",
        "from tensorflow.keras import layers\n",
        "from keras.layers import Dropout\n",
        "model = keras.Sequential()\n",
        "\n",
        "model.add(layers.Bidirectional(layers.LSTM(64, return_sequences=True)))\n",
        "model.add(layers.Bidirectional(layers.LSTM(32)))\n",
        "model.add(layers.Dense(1))\n",
        "\n",
        "model.compile(optimizer='adam', loss='mse')"
      ],
      "execution_count": null,
      "outputs": []
    },
    {
      "cell_type": "code",
      "metadata": {
        "id": "GYUczRbZV9_8"
      },
      "source": [
        "historay = model.fit(X_train,y_train,validation_split=0.2, epochs=5, batch_size=32)"
      ],
      "execution_count": null,
      "outputs": []
    },
    {
      "cell_type": "code",
      "metadata": {
        "id": "4EpARPSWWAti"
      },
      "source": [
        "from matplotlib import pyplot\n",
        "pyplot.plot(history.history['loss'])\n",
        "pyplot.plot(history.history['val_loss'])\n",
        "pyplot.title('model train vs validation loss')\n",
        "pyplot.ylabel('loss')\n",
        "pyplot.xlabel('epoch')\n",
        "pyplot.legend(['train', 'validation'], loc='upper right')\n",
        "pyplot.show()"
      ],
      "execution_count": null,
      "outputs": []
    },
    {
      "cell_type": "code",
      "metadata": {
        "id": "W8ZwB6BzWBHN"
      },
      "source": [
        "Y_pred = model.predict(X_test)\n",
        "\n",
        "rmse = np.sqrt(mean_squared_error(y_test,Y_pred))\n",
        "r2 = r2_score(y_test,Y_pred)\n",
        "\n",
        "print(\"RMSE Score for Test set: \" +\"{:.2}\".format(rmse))\n",
        "print(\"R2 Score for Test set: \" +\"{:.2}\".format(r2))"
      ],
      "execution_count": null,
      "outputs": []
    }
  ]
}